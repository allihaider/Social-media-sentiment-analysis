{
 "cells": [
  {
   "cell_type": "markdown",
   "metadata": {},
   "source": [
    "# Simple Sentiment Analysis with TextBlob"
   ]
  },
  {
   "cell_type": "code",
   "execution_count": 1,
   "metadata": {},
   "outputs": [],
   "source": [
    "#  Import the TextBlob class\n",
    "\n",
    "from textblob import TextBlob"
   ]
  },
  {
   "cell_type": "code",
   "execution_count": 2,
   "metadata": {},
   "outputs": [],
   "source": [
    "#  Input a sentence and generate values for polarity and subjectivity\n",
    "\n",
    "sentence = \"Hello good How are you I am under the water please help\"\n",
    "\n",
    "sentence_polarity = TextBlob(sentence).polarity\n",
    "sentence_subjectivity = TextBlob(sentence).subjectivity"
   ]
  },
  {
   "cell_type": "code",
   "execution_count": 3,
   "metadata": {},
   "outputs": [
    {
     "name": "stdout",
     "output_type": "stream",
     "text": [
      "Sentence polarity score:  0.7\n",
      "Sentence subjectivity score:  0.6000000000000001\n"
     ]
    }
   ],
   "source": [
    "#  Print both generated values\n",
    "\n",
    "print(\"Sentence polarity score: \", sentence_polarity)\n",
    "print(\"Sentence subjectivity score: \", sentence_subjectivity)"
   ]
  }
 ],
 "metadata": {
  "kernelspec": {
   "display_name": "Python 3",
   "language": "python",
   "name": "python3"
  },
  "language_info": {
   "codemirror_mode": {
    "name": "ipython",
    "version": 3
   },
   "file_extension": ".py",
   "mimetype": "text/x-python",
   "name": "python",
   "nbconvert_exporter": "python",
   "pygments_lexer": "ipython3",
   "version": "3.6.9"
  }
 },
 "nbformat": 4,
 "nbformat_minor": 4
}
